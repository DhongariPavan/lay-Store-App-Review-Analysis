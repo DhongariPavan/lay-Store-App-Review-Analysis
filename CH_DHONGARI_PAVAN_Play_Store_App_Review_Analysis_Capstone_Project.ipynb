{
  "nbformat": 4,
  "nbformat_minor": 0,
  "metadata": {
    "kernelspec": {
      "display_name": "Python 3",
      "language": "python",
      "name": "python3"
    },
    "language_info": {
      "codemirror_mode": {
        "name": "ipython",
        "version": 3
      },
      "file_extension": ".py",
      "mimetype": "text/x-python",
      "name": "python",
      "nbconvert_exporter": "python",
      "pygments_lexer": "ipython3",
      "version": "3.6.6"
    },
    "colab": {
      "name": "CH-DHONGARI PAVAN- Play Store App Review Analysis - Capstone Project.ipynb",
      "provenance": [],
      "include_colab_link": true
    }
  },
  "cells": [
    {
      "cell_type": "markdown",
      "metadata": {
        "id": "view-in-github",
        "colab_type": "text"
      },
      "source": [
        "<a href=\"https://colab.research.google.com/github/DhongariPavan/play-Store-App-Review-Analysis/blob/main/CH_DHONGARI_PAVAN_Play_Store_App_Review_Analysis_Capstone_Project.ipynb\" target=\"_parent\"><img src=\"https://colab.research.google.com/assets/colab-badge.svg\" alt=\"Open In Colab\"/></a>"
      ]
    },
    {
      "cell_type": "markdown",
      "metadata": {
        "id": "Y06xIdG26kRF"
      },
      "source": [
        "## <b> The Play Store apps data has enormous potential to drive app-making businesses to success. Actionable insights can be drawn for developers to work on and capture the Android market. </b>\n",
        "\n",
        "## <b> Each app (row) has values for catergory, rating, size, and more. Another dataset contains customer reviews of the android apps.</b>\n",
        "\n",
        "## <b> Explore and analyze the data to discover key factors responsible for app engagement and success. </b>"
      ]
    },
    {
      "cell_type": "code",
      "metadata": {
        "id": "dByMsuzT8Tnw"
      },
      "source": [
        "import pandas as pd\n",
        "import numpy as np\n",
        "import matplotlib.pyplot as plt\n"
      ],
      "execution_count": null,
      "outputs": []
    },
    {
      "cell_type": "code",
      "metadata": {
        "colab": {
          "base_uri": "https://localhost:8080/"
        },
        "id": "UDMAyGUwvvsd",
        "outputId": "32ffd0e8-da0f-4c87-88a4-a4af76f2b45a"
      },
      "source": [
        "from google.colab import drive\n",
        "drive.mount('/content/drive')"
      ],
      "execution_count": null,
      "outputs": [
        {
          "output_type": "stream",
          "text": [
            "Drive already mounted at /content/drive; to attempt to forcibly remount, call drive.mount(\"/content/drive\", force_remount=True).\n"
          ],
          "name": "stdout"
        }
      ]
    },
    {
      "cell_type": "code",
      "metadata": {
        "id": "Zyyfr8t6wGWf"
      },
      "source": [
        "path = '/content/drive/MyDrive/Colab Notebooks/Almabetter/Python Capstone Project/Copy of Play Store Data.csv'\n",
        "app_df = pd.read_csv(path)"
      ],
      "execution_count": null,
      "outputs": []
    },
    {
      "cell_type": "code",
      "metadata": {
        "colab": {
          "base_uri": "https://localhost:8080/",
          "height": 199
        },
        "id": "QAyJT6hmwTkS",
        "outputId": "e8d69888-46f1-45f8-cfc9-41c62a41da75"
      },
      "source": [
        "app_df.head(2)"
      ],
      "execution_count": null,
      "outputs": [
        {
          "output_type": "execute_result",
          "data": {
            "text/html": [
              "<div>\n",
              "<style scoped>\n",
              "    .dataframe tbody tr th:only-of-type {\n",
              "        vertical-align: middle;\n",
              "    }\n",
              "\n",
              "    .dataframe tbody tr th {\n",
              "        vertical-align: top;\n",
              "    }\n",
              "\n",
              "    .dataframe thead th {\n",
              "        text-align: right;\n",
              "    }\n",
              "</style>\n",
              "<table border=\"1\" class=\"dataframe\">\n",
              "  <thead>\n",
              "    <tr style=\"text-align: right;\">\n",
              "      <th></th>\n",
              "      <th>App</th>\n",
              "      <th>Category</th>\n",
              "      <th>Rating</th>\n",
              "      <th>Reviews</th>\n",
              "      <th>Size</th>\n",
              "      <th>Installs</th>\n",
              "      <th>Type</th>\n",
              "      <th>Price</th>\n",
              "      <th>Content Rating</th>\n",
              "      <th>Genres</th>\n",
              "      <th>Last Updated</th>\n",
              "      <th>Current Ver</th>\n",
              "      <th>Android Ver</th>\n",
              "    </tr>\n",
              "  </thead>\n",
              "  <tbody>\n",
              "    <tr>\n",
              "      <th>0</th>\n",
              "      <td>Photo Editor &amp; Candy Camera &amp; Grid &amp; ScrapBook</td>\n",
              "      <td>ART_AND_DESIGN</td>\n",
              "      <td>4.1</td>\n",
              "      <td>159</td>\n",
              "      <td>19M</td>\n",
              "      <td>10,000+</td>\n",
              "      <td>Free</td>\n",
              "      <td>0</td>\n",
              "      <td>Everyone</td>\n",
              "      <td>Art &amp; Design</td>\n",
              "      <td>January 7, 2018</td>\n",
              "      <td>1.0.0</td>\n",
              "      <td>4.0.3 and up</td>\n",
              "    </tr>\n",
              "    <tr>\n",
              "      <th>1</th>\n",
              "      <td>Coloring book moana</td>\n",
              "      <td>ART_AND_DESIGN</td>\n",
              "      <td>3.9</td>\n",
              "      <td>967</td>\n",
              "      <td>14M</td>\n",
              "      <td>500,000+</td>\n",
              "      <td>Free</td>\n",
              "      <td>0</td>\n",
              "      <td>Everyone</td>\n",
              "      <td>Art &amp; Design;Pretend Play</td>\n",
              "      <td>January 15, 2018</td>\n",
              "      <td>2.0.0</td>\n",
              "      <td>4.0.3 and up</td>\n",
              "    </tr>\n",
              "  </tbody>\n",
              "</table>\n",
              "</div>"
            ],
            "text/plain": [
              "                                              App  ...   Android Ver\n",
              "0  Photo Editor & Candy Camera & Grid & ScrapBook  ...  4.0.3 and up\n",
              "1                             Coloring book moana  ...  4.0.3 and up\n",
              "\n",
              "[2 rows x 13 columns]"
            ]
          },
          "metadata": {
            "tags": []
          },
          "execution_count": 60
        }
      ]
    },
    {
      "cell_type": "code",
      "metadata": {
        "colab": {
          "base_uri": "https://localhost:8080/"
        },
        "id": "LQ17DwTzHieX",
        "outputId": "dad8f4f6-d870-44ce-9122-fc462dcb384d"
      },
      "source": [
        "# first thing we need to do is cleaning the data if there is any discrepency\n",
        "#Checking shape of dataframe\n",
        "app_df.shape"
      ],
      "execution_count": null,
      "outputs": [
        {
          "output_type": "execute_result",
          "data": {
            "text/plain": [
              "(10841, 13)"
            ]
          },
          "metadata": {
            "tags": []
          },
          "execution_count": 61
        }
      ]
    },
    {
      "cell_type": "code",
      "metadata": {
        "id": "qSUusSz-Jv3h"
      },
      "source": [
        "#droping the rows which are duplicates, key is compared for all columns\n",
        "app_df.drop_duplicates(inplace=True)"
      ],
      "execution_count": null,
      "outputs": []
    },
    {
      "cell_type": "code",
      "metadata": {
        "colab": {
          "base_uri": "https://localhost:8080/"
        },
        "id": "wvkA-AOaJ9jQ",
        "outputId": "2c69501b-5c6e-471a-f0d3-e26ce148a90a"
      },
      "source": [
        "app_df.shape"
      ],
      "execution_count": null,
      "outputs": [
        {
          "output_type": "execute_result",
          "data": {
            "text/plain": [
              "(10358, 13)"
            ]
          },
          "metadata": {
            "tags": []
          },
          "execution_count": 63
        }
      ]
    },
    {
      "cell_type": "code",
      "metadata": {
        "colab": {
          "base_uri": "https://localhost:8080/"
        },
        "id": "BVRqH4LQJ_cT",
        "outputId": "ac711773-ef0a-449b-f2a7-ec2f9aee71a4"
      },
      "source": [
        "#Checking unique values for Column\n",
        "app_df['Content Rating'].unique()"
      ],
      "execution_count": null,
      "outputs": [
        {
          "output_type": "execute_result",
          "data": {
            "text/plain": [
              "array(['Everyone', 'Teen', 'Everyone 10+', 'Mature 17+',\n",
              "       'Adults only 18+', 'Unrated', nan], dtype=object)"
            ]
          },
          "metadata": {
            "tags": []
          },
          "execution_count": 64
        }
      ]
    },
    {
      "cell_type": "code",
      "metadata": {
        "id": "Cm-zWDlCKS6D"
      },
      "source": [
        "# Replacing nan Values with Not Defined\n",
        "app_df['Content Rating'] = app_df['Content Rating'].replace(np.nan,'Not Defined')"
      ],
      "execution_count": null,
      "outputs": []
    },
    {
      "cell_type": "code",
      "metadata": {
        "colab": {
          "base_uri": "https://localhost:8080/"
        },
        "id": "8zXrCX6xM8Nv",
        "outputId": "290d3a1b-23c0-435f-ebd5-2c5597a147ec"
      },
      "source": [
        "app_df['Content Rating'].unique()"
      ],
      "execution_count": null,
      "outputs": [
        {
          "output_type": "execute_result",
          "data": {
            "text/plain": [
              "array(['Everyone', 'Teen', 'Everyone 10+', 'Mature 17+',\n",
              "       'Adults only 18+', 'Unrated', 'Not Defined'], dtype=object)"
            ]
          },
          "metadata": {
            "tags": []
          },
          "execution_count": 66
        }
      ]
    },
    {
      "cell_type": "code",
      "metadata": {
        "colab": {
          "base_uri": "https://localhost:8080/"
        },
        "id": "Mg83j2m4KnGC",
        "outputId": "bbd5c196-dc9e-40ab-ab12-b4d27d6483dc"
      },
      "source": [
        "#Checking unique values for Genres\n",
        "#Geners is a sub category which has different types in Category\n",
        "app_df.Genres.unique()"
      ],
      "execution_count": null,
      "outputs": [
        {
          "output_type": "execute_result",
          "data": {
            "text/plain": [
              "array(['Art & Design', 'Art & Design;Pretend Play',\n",
              "       'Art & Design;Creativity', 'Art & Design;Action & Adventure',\n",
              "       'Auto & Vehicles', 'Beauty', 'Books & Reference', 'Business',\n",
              "       'Comics', 'Comics;Creativity', 'Communication', 'Dating',\n",
              "       'Education;Education', 'Education', 'Education;Creativity',\n",
              "       'Education;Music & Video', 'Education;Action & Adventure',\n",
              "       'Education;Pretend Play', 'Education;Brain Games', 'Entertainment',\n",
              "       'Entertainment;Music & Video', 'Entertainment;Brain Games',\n",
              "       'Entertainment;Creativity', 'Events', 'Finance', 'Food & Drink',\n",
              "       'Health & Fitness', 'House & Home', 'Libraries & Demo',\n",
              "       'Lifestyle', 'Lifestyle;Pretend Play',\n",
              "       'Adventure;Action & Adventure', 'Arcade', 'Casual', 'Card',\n",
              "       'Casual;Pretend Play', 'Action', 'Strategy', 'Puzzle', 'Sports',\n",
              "       'Music', 'Word', 'Racing', 'Casual;Creativity',\n",
              "       'Casual;Action & Adventure', 'Simulation', 'Adventure', 'Board',\n",
              "       'Trivia', 'Role Playing', 'Simulation;Education',\n",
              "       'Action;Action & Adventure', 'Casual;Brain Games',\n",
              "       'Simulation;Action & Adventure', 'Educational;Creativity',\n",
              "       'Puzzle;Brain Games', 'Educational;Education', 'Card;Brain Games',\n",
              "       'Educational;Brain Games', 'Educational;Pretend Play',\n",
              "       'Entertainment;Education', 'Casual;Education',\n",
              "       'Music;Music & Video', 'Racing;Action & Adventure',\n",
              "       'Arcade;Pretend Play', 'Role Playing;Action & Adventure',\n",
              "       'Simulation;Pretend Play', 'Puzzle;Creativity',\n",
              "       'Sports;Action & Adventure', 'Educational;Action & Adventure',\n",
              "       'Arcade;Action & Adventure', 'Entertainment;Action & Adventure',\n",
              "       'Puzzle;Action & Adventure', 'Strategy;Action & Adventure',\n",
              "       'Music & Audio;Music & Video', 'Health & Fitness;Education',\n",
              "       'Adventure;Education', 'Board;Brain Games',\n",
              "       'Board;Action & Adventure', 'Board;Pretend Play',\n",
              "       'Casual;Music & Video', 'Role Playing;Pretend Play',\n",
              "       'Entertainment;Pretend Play', 'Video Players & Editors;Creativity',\n",
              "       'Card;Action & Adventure', 'Medical', 'Social', 'Shopping',\n",
              "       'Photography', 'Travel & Local',\n",
              "       'Travel & Local;Action & Adventure', 'Tools', 'Tools;Education',\n",
              "       'Personalization', 'Productivity', 'Parenting',\n",
              "       'Parenting;Music & Video', 'Parenting;Education',\n",
              "       'Parenting;Brain Games', 'Weather', 'Video Players & Editors',\n",
              "       'Video Players & Editors;Music & Video', 'News & Magazines',\n",
              "       'Maps & Navigation', 'Health & Fitness;Action & Adventure',\n",
              "       'Educational', 'Casino', 'Adventure;Brain Games',\n",
              "       'Trivia;Education', 'Lifestyle;Education',\n",
              "       'Books & Reference;Creativity', 'Books & Reference;Education',\n",
              "       'Puzzle;Education', 'Role Playing;Education',\n",
              "       'Role Playing;Brain Games', 'Strategy;Education',\n",
              "       'Racing;Pretend Play', 'Communication;Creativity',\n",
              "       'February 11, 2018', 'Strategy;Creativity'], dtype=object)"
            ]
          },
          "metadata": {
            "tags": []
          },
          "execution_count": 67
        }
      ]
    },
    {
      "cell_type": "code",
      "metadata": {
        "colab": {
          "base_uri": "https://localhost:8080/",
          "height": 115
        },
        "id": "zaJbFRCELqcj",
        "outputId": "a70eac28-8f27-4db1-c72d-5d04948283b6"
      },
      "source": [
        "# we have 'February 11, 2018' in the unique values, it shouldn't be there so need to replace with NaN values\n",
        "app_df[app_df.Genres == 'February 11, 2018']"
      ],
      "execution_count": null,
      "outputs": [
        {
          "output_type": "execute_result",
          "data": {
            "text/html": [
              "<div>\n",
              "<style scoped>\n",
              "    .dataframe tbody tr th:only-of-type {\n",
              "        vertical-align: middle;\n",
              "    }\n",
              "\n",
              "    .dataframe tbody tr th {\n",
              "        vertical-align: top;\n",
              "    }\n",
              "\n",
              "    .dataframe thead th {\n",
              "        text-align: right;\n",
              "    }\n",
              "</style>\n",
              "<table border=\"1\" class=\"dataframe\">\n",
              "  <thead>\n",
              "    <tr style=\"text-align: right;\">\n",
              "      <th></th>\n",
              "      <th>App</th>\n",
              "      <th>Category</th>\n",
              "      <th>Rating</th>\n",
              "      <th>Reviews</th>\n",
              "      <th>Size</th>\n",
              "      <th>Installs</th>\n",
              "      <th>Type</th>\n",
              "      <th>Price</th>\n",
              "      <th>Content Rating</th>\n",
              "      <th>Genres</th>\n",
              "      <th>Last Updated</th>\n",
              "      <th>Current Ver</th>\n",
              "      <th>Android Ver</th>\n",
              "    </tr>\n",
              "  </thead>\n",
              "  <tbody>\n",
              "    <tr>\n",
              "      <th>10472</th>\n",
              "      <td>Life Made WI-Fi Touchscreen Photo Frame</td>\n",
              "      <td>1.9</td>\n",
              "      <td>19.0</td>\n",
              "      <td>3.0M</td>\n",
              "      <td>1,000+</td>\n",
              "      <td>Free</td>\n",
              "      <td>0</td>\n",
              "      <td>Everyone</td>\n",
              "      <td>Not Defined</td>\n",
              "      <td>February 11, 2018</td>\n",
              "      <td>1.0.19</td>\n",
              "      <td>4.0 and up</td>\n",
              "      <td>NaN</td>\n",
              "    </tr>\n",
              "  </tbody>\n",
              "</table>\n",
              "</div>"
            ],
            "text/plain": [
              "                                           App Category  ...  Current Ver Android Ver\n",
              "10472  Life Made WI-Fi Touchscreen Photo Frame      1.9  ...   4.0 and up         NaN\n",
              "\n",
              "[1 rows x 13 columns]"
            ]
          },
          "metadata": {
            "tags": []
          },
          "execution_count": 68
        }
      ]
    },
    {
      "cell_type": "code",
      "metadata": {
        "colab": {
          "base_uri": "https://localhost:8080/"
        },
        "id": "LC1D1p2iMx4g",
        "outputId": "820c608e-08ca-4bee-ddf1-2cd0eb9377ed"
      },
      "source": [
        "#Replacing Date value with np.nan values\n",
        "app_df.Genres = app_df.Genres.replace('February 11, 2018',np.nan)\n",
        "app_df.loc[10472]"
      ],
      "execution_count": null,
      "outputs": [
        {
          "output_type": "execute_result",
          "data": {
            "text/plain": [
              "App               Life Made WI-Fi Touchscreen Photo Frame\n",
              "Category                                              1.9\n",
              "Rating                                                 19\n",
              "Reviews                                              3.0M\n",
              "Size                                               1,000+\n",
              "Installs                                             Free\n",
              "Type                                                    0\n",
              "Price                                            Everyone\n",
              "Content Rating                                Not Defined\n",
              "Genres                                                NaN\n",
              "Last Updated                                       1.0.19\n",
              "Current Ver                                    4.0 and up\n",
              "Android Ver                                           NaN\n",
              "Name: 10472, dtype: object"
            ]
          },
          "metadata": {
            "tags": []
          },
          "execution_count": 74
        }
      ]
    },
    {
      "cell_type": "code",
      "metadata": {
        "colab": {
          "base_uri": "https://localhost:8080/"
        },
        "id": "y38IEB8QNzTa",
        "outputId": "4ab992be-b355-4278-aad3-e0468a304016"
      },
      "source": [
        "app_df['Last Updated'].unique()"
      ],
      "execution_count": null,
      "outputs": [
        {
          "output_type": "execute_result",
          "data": {
            "text/plain": [
              "array(['January 7, 2018', 'January 15, 2018', 'August 1, 2018', ...,\n",
              "       'January 20, 2014', 'February 16, 2014', 'March 23, 2014'],\n",
              "      dtype=object)"
            ]
          },
          "metadata": {
            "tags": []
          },
          "execution_count": 75
        }
      ]
    },
    {
      "cell_type": "code",
      "metadata": {
        "id": "tm5-9ArqOfEh"
      },
      "source": [
        "# We need to change data in standard Format, it's format is String need to convert to Date Format\n",
        "app_df['Last Updated'] = pd.to_datetime(app_df['Last Updated'])"
      ],
      "execution_count": null,
      "outputs": []
    },
    {
      "cell_type": "code",
      "metadata": {
        "colab": {
          "base_uri": "https://localhost:8080/"
        },
        "id": "SKLDao-FPsxd",
        "outputId": "35f7c4f3-32bf-49d9-d691-55f387177539"
      },
      "source": [
        "# for index 10472, date is wrong which has no month, so replacing with NaN value\n",
        "app_df['Last Updated'] = app_df['Last Updated'].replace('1.0.19',np.nan)\n",
        "app_df['Last Updated']"
      ],
      "execution_count": null,
      "outputs": [
        {
          "output_type": "execute_result",
          "data": {
            "text/plain": [
              "0       2018-01-07\n",
              "1       2018-01-15\n",
              "2       2018-08-01\n",
              "3       2018-06-08\n",
              "4       2018-06-20\n",
              "           ...    \n",
              "10836   2017-07-25\n",
              "10837   2018-07-06\n",
              "10838   2017-01-20\n",
              "10839   2015-01-19\n",
              "10840   2018-07-25\n",
              "Name: Last Updated, Length: 10358, dtype: datetime64[ns]"
            ]
          },
          "metadata": {
            "tags": []
          },
          "execution_count": 83
        }
      ]
    },
    {
      "cell_type": "code",
      "metadata": {
        "colab": {
          "base_uri": "https://localhost:8080/"
        },
        "id": "F4QMJODCRGkE",
        "outputId": "13cd0ce9-94f8-40d8-d7de-fcb1cf289637"
      },
      "source": [
        "# We will check if we have any inappropriate data in Version\n",
        "app_df['Android Ver'].unique()"
      ],
      "execution_count": null,
      "outputs": [
        {
          "output_type": "execute_result",
          "data": {
            "text/plain": [
              "array(['4.0.3 and up', '4.2 and up', '4.4 and up', '2.3 and up',\n",
              "       '3.0 and up', '4.1 and up', '4.0 and up', '2.3.3 and up',\n",
              "       'Varies with device', '2.2 and up', '5.0 and up', '6.0 and up',\n",
              "       '1.6 and up', '1.5 and up', '2.1 and up', '7.0 and up',\n",
              "       '5.1 and up', '4.3 and up', '4.0.3 - 7.1.1', '2.0 and up',\n",
              "       '3.2 and up', '4.4W and up', '7.1 and up', '7.0 - 7.1.1',\n",
              "       '8.0 and up', '5.0 - 8.0', '3.1 and up', '2.0.1 and up',\n",
              "       '4.1 - 7.1.1', nan, '5.0 - 6.0', '1.0 and up', '2.2 - 7.1.1',\n",
              "       '5.0 - 7.1.1'], dtype=object)"
            ]
          },
          "metadata": {
            "tags": []
          },
          "execution_count": 84
        }
      ]
    },
    {
      "cell_type": "code",
      "metadata": {
        "id": "Pz95XNuoRV6q"
      },
      "source": [
        "# the data cleaning part is completed, now we need to do find some insights in the data"
      ],
      "execution_count": null,
      "outputs": []
    },
    {
      "cell_type": "code",
      "metadata": {
        "id": "LrAaEZv2agYy"
      },
      "source": [
        ""
      ],
      "execution_count": null,
      "outputs": []
    }
  ]
}